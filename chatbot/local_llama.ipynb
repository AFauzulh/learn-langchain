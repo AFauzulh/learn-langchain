{
 "cells": [
  {
   "cell_type": "code",
   "execution_count": 1,
   "metadata": {},
   "outputs": [],
   "source": [
    "import os\n",
    "from dotenv import load_dotenv\n",
    "load_dotenv()\n",
    "\n",
    "from langchain_core.prompts import ChatPromptTemplate\n",
    "from langchain_core.output_parsers import StrOutputParser\n",
    "\n",
    "from langchain_community.llms import Ollama"
   ]
  },
  {
   "cell_type": "code",
   "execution_count": 2,
   "metadata": {},
   "outputs": [],
   "source": [
    "os.environ[\"LANGCHAIN_TRACING_V2\"]=\"false\""
   ]
  },
  {
   "cell_type": "code",
   "execution_count": 3,
   "metadata": {},
   "outputs": [],
   "source": [
    "prompt = ChatPromptTemplate.from_messages(\n",
    "    [\n",
    "        (\"system\",\"You are a helpful assistant. Please response to the user queries\"),\n",
    "        (\"user\",\"Question:{question}\")\n",
    "    ]\n",
    ")\n",
    "\n",
    "llm = Ollama(model=\"llama2\")\n",
    "output_parser = StrOutputParser()\n",
    "\n",
    "chain = prompt | llm | output_parser"
   ]
  },
  {
   "cell_type": "code",
   "execution_count": 5,
   "metadata": {},
   "outputs": [
    {
     "name": "stdout",
     "output_type": "stream",
     "text": [
      "User: Please give me source code to solve tower of hanoi problem recursively\n",
      "Sure, here is an example of how you could write a recursive function in Python to solve the Tower of Hanoi problem:\n",
      "```\n",
      "def solve_tower_of_hanoi(num_disks, from_peg, to_peg, n_moves):\n",
      "    \"\"\"\n",
      "    Solves the Tower of Hanoi problem recursively.\n",
      "\n",
      "    :param num_disks: Number of disks in the tower\n",
      "    :type num_disks: int\n",
      "    :param from_peg: Starting peg number for the disk stack\n",
      "    :type from_peg: int\n",
      "    :param to_peg: Destination peg number for the disk stack\n",
      "    :type to_peg: int\n",
      "    :param n_moves: Number of moves allowed in the solution\n",
      "    :type n_moves: int\n",
      "    :return: A list of move sequences (one per line) that will solve the Tower of Hanoi problem\n",
      "    \"\"\"\n",
      "    if num_disks == 1:\n",
      "        return [\"Move disk from peg %d to peg %d\" % (from_peg, to_peg)]\n",
      "    \n",
      "    # Recursively solve the sub-problems for each disk\n",
      "    moves = []\n",
      "    for i in range(num_disks - 1):\n",
      "        moves.append(\"Move disk %d from peg %d to peg %d\" % (i + 1, from_peg, to_peg))\n",
      "        moves.append(\"Move disk %d from peg %d to peg %d\" % (i + 2, from_peg, to_peg))\n",
      "    \n",
      "    # Add the initial move to the end of the list\n",
      "    moves.append(\"Move disk %d from peg %d to peg %d\" % (num_disks, from_peg, to_peg))\n",
      "    \n",
      "    return moves\n",
      "```\n",
      "This function takes in the number of disks, the starting and ending peg numbers, and the maximum number of moves allowed in the solution. It then recursively solves the sub-problems for each disk using the `append` method, and returns a list of move sequences that will solve the Tower of Hanoi problem.\n",
      "\n",
      "You can use this function to generate a sequence of moves that will solve the Tower of Hanoi problem by calling it with the appropriate input values. For example:\n",
      "```\n",
      "moves = solve_tower_of_hanoi(7, 1, 3, 2)\n",
      "print(moves)\n",
      "```\n",
      "This would generate a list of move sequences that would solve the Tower of Hanoi problem with 7 disks, starting at peg 1 and ending at peg 3 after 2 moves.\n",
      "\n",
      "I hope this helps! Let me know if you have any questions or need further clarification.\n"
     ]
    }
   ],
   "source": [
    "input_text = input()\n",
    "print(f\"User: {input_text}\")\n",
    "print(chain.invoke({\"question\":input_text})) "
   ]
  },
  {
   "cell_type": "code",
   "execution_count": null,
   "metadata": {},
   "outputs": [],
   "source": []
  }
 ],
 "metadata": {
  "kernelspec": {
   "display_name": "learn_langchain",
   "language": "python",
   "name": "python3"
  },
  "language_info": {
   "codemirror_mode": {
    "name": "ipython",
    "version": 3
   },
   "file_extension": ".py",
   "mimetype": "text/x-python",
   "name": "python",
   "nbconvert_exporter": "python",
   "pygments_lexer": "ipython3",
   "version": "3.11.10"
  }
 },
 "nbformat": 4,
 "nbformat_minor": 2
}
